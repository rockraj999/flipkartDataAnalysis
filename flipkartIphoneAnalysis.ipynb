{
 "cells": [
  {
   "cell_type": "code",
   "execution_count": 1,
   "id": "670d51f8",
   "metadata": {},
   "outputs": [],
   "source": [
    "# import required modules\n",
    "\n",
    "import requests\n",
    "from bs4 import BeautifulSoup as bs\n",
    "import pandas as pd\n",
    "import matplotlib as mpl\n",
    "import seaborn as sns"
   ]
  },
  {
   "cell_type": "code",
   "execution_count": 2,
   "id": "37401fd3",
   "metadata": {},
   "outputs": [],
   "source": [
    "##  choose the data you need to import from a website \n",
    "\n",
    "url='https://www.flipkart.com/search?q=i%20phones&otracker=search&otracker1=search&marketplace=FLIPKART&as-show=on&as=off'\n"
   ]
  },
  {
   "cell_type": "code",
   "execution_count": 3,
   "id": "d8207476",
   "metadata": {},
   "outputs": [],
   "source": [
    "df=pd.DataFrame(columns= ['prod name','prod link','Star Rating','Number Of Ratings','Number Of Reviews','Sale Price','mrp'])\n",
    "\n",
    "#df.columns=['prod_name','ratings','total_rating','review','price','mrp']\n",
    "for i in range(1,6):\n",
    "    page=url+\"&page=\"+str(i)\n",
    "    data=requests.get(page)\n",
    "    soup=bs(data.content,\"html.parser\")\n",
    "    \n",
    "    prod_name=[]\n",
    "    ratings=[]\n",
    "    no_of_rate=[]\n",
    "    review=[]\n",
    "    prices=[]\n",
    "    mrp=[]\n",
    "    prod_link=[]\n",
    "\n",
    "    name=soup.find_all('div',class_='_4rR01T')\n",
    "    #print(name)\n",
    "    prod_name=[i.text for i in name]\n",
    "    rate=soup.find_all('div',class_='_3LWZlK')\n",
    "    ratings=[i.text for i in rate]\n",
    "    nfrate=soup.find_all('span',class_='_2_R_DZ')\n",
    "    no_of_rate=[i.text.split(' ')[0] for i in nfrate]\n",
    "    review=[i.text.split('&')[1] for i in nfrate]\n",
    "    price=soup.find_all('div',class_='_30jeq3 _1_WHN1')\n",
    "    prices=[i.text for i in price]\n",
    "    actual_p=soup.find_all('div',class_='_3I9_wc _27UcVY')\n",
    "    mrp=[i.text for i in actual_p]\n",
    "    product_links = soup.find_all(\"a\", class_=\"_1fQZEK\")\n",
    "    prod_link = [link.get(\"href\") for link in product_links]\n",
    "    \n",
    "    \n",
    "    min_len=min(len(prod_name),len(ratings),len(no_of_rate),len(review),len(prices),len(mrp),len(prod_link))\n",
    "\n",
    "    prod_name1=[]\n",
    "    ratings1=[]\n",
    "    no_of_rate1=[]\n",
    "    review1=[]\n",
    "    prices1=[]\n",
    "    mrp1=[]\n",
    "    prod_link1=[]\n",
    "    for i in range(min_len):\n",
    "        prod_name1.append(prod_name[i])\n",
    "        ratings1.append(ratings[i])\n",
    "        no_of_rate1.append(no_of_rate[i])\n",
    "        review1.append(review[i])\n",
    "        prices1.append(prices[i])\n",
    "        mrp1.append(mrp[i])\n",
    "        prod_link1.append(prod_link[i])\n",
    "        \n",
    "    df1=pd.DataFrame({'prod name':prod_name1,'prod link':prod_link1,'Star Rating':ratings1,'Number Of Ratings':no_of_rate1,'Number Of Reviews':review1,'Sale Price':prices1,'mrp':mrp1})\n",
    "    \n",
    "    df=pd.concat([df,df1],axis=0)"
   ]
  },
  {
   "cell_type": "code",
   "execution_count": 4,
   "id": "94654164",
   "metadata": {},
   "outputs": [
    {
     "data": {
      "text/plain": [
       "Index(['prod name', 'prod link', 'Star Rating', 'Number Of Ratings',\n",
       "       'Number Of Reviews', 'Sale Price', 'mrp'],\n",
       "      dtype='object')"
      ]
     },
     "execution_count": 4,
     "metadata": {},
     "output_type": "execute_result"
    }
   ],
   "source": [
    "df.columns"
   ]
  },
  {
   "cell_type": "code",
   "execution_count": 5,
   "id": "f5ab659e",
   "metadata": {},
   "outputs": [],
   "source": [
    "df.columns= [ '_'.join(i.split(' ')) for i in df.columns]"
   ]
  },
  {
   "cell_type": "code",
   "execution_count": 6,
   "id": "371a55d0",
   "metadata": {},
   "outputs": [
    {
     "data": {
      "text/plain": [
       "Index(['prod_name', 'prod_link', 'Star_Rating', 'Number_Of_Ratings',\n",
       "       'Number_Of_Reviews', 'Sale_Price', 'mrp'],\n",
       "      dtype='object')"
      ]
     },
     "execution_count": 6,
     "metadata": {},
     "output_type": "execute_result"
    }
   ],
   "source": [
    "df.columns"
   ]
  },
  {
   "cell_type": "code",
   "execution_count": 7,
   "id": "74f35a00",
   "metadata": {},
   "outputs": [],
   "source": [
    "\n",
    "df['Number_Of_Reviews']=df['Number_Of_Reviews'].str[:-7]\n",
    "df['prod_link']=df['prod_link'].str.split('&').str[0]\n",
    "df['prod_link']='https://www.flipkart.com'+df['prod_link']"
   ]
  },
  {
   "cell_type": "code",
   "execution_count": 8,
   "id": "8fcabccb",
   "metadata": {},
   "outputs": [],
   "source": [
    "# droping null values from df\n",
    "\n",
    "df=df.dropna()"
   ]
  },
  {
   "cell_type": "code",
   "execution_count": 9,
   "id": "e343ac9f",
   "metadata": {
    "scrolled": true
   },
   "outputs": [
    {
     "data": {
      "text/html": [
       "<div>\n",
       "<style scoped>\n",
       "    .dataframe tbody tr th:only-of-type {\n",
       "        vertical-align: middle;\n",
       "    }\n",
       "\n",
       "    .dataframe tbody tr th {\n",
       "        vertical-align: top;\n",
       "    }\n",
       "\n",
       "    .dataframe thead th {\n",
       "        text-align: right;\n",
       "    }\n",
       "</style>\n",
       "<table border=\"1\" class=\"dataframe\">\n",
       "  <thead>\n",
       "    <tr style=\"text-align: right;\">\n",
       "      <th></th>\n",
       "      <th>prod_name</th>\n",
       "      <th>prod_link</th>\n",
       "      <th>Star_Rating</th>\n",
       "      <th>Number_Of_Ratings</th>\n",
       "      <th>Number_Of_Reviews</th>\n",
       "      <th>Sale_Price</th>\n",
       "      <th>mrp</th>\n",
       "    </tr>\n",
       "  </thead>\n",
       "  <tbody>\n",
       "    <tr>\n",
       "      <th>0</th>\n",
       "      <td>APPLE iPhone 13 (Midnight, 128 GB)</td>\n",
       "      <td>https://www.flipkart.com/apple-iphone-13-midni...</td>\n",
       "      <td>4.7</td>\n",
       "      <td>2,31,485</td>\n",
       "      <td>11,854</td>\n",
       "      <td>₹62,499</td>\n",
       "      <td>₹69,900</td>\n",
       "    </tr>\n",
       "    <tr>\n",
       "      <th>1</th>\n",
       "      <td>APPLE iPhone 13 (Pink, 128 GB)</td>\n",
       "      <td>https://www.flipkart.com/apple-iphone-13-pink-...</td>\n",
       "      <td>4.7</td>\n",
       "      <td>2,31,485</td>\n",
       "      <td>11,854</td>\n",
       "      <td>₹62,499</td>\n",
       "      <td>₹69,900</td>\n",
       "    </tr>\n",
       "    <tr>\n",
       "      <th>2</th>\n",
       "      <td>APPLE iPhone 13 (Starlight, 128 GB)</td>\n",
       "      <td>https://www.flipkart.com/apple-iphone-13-starl...</td>\n",
       "      <td>4.7</td>\n",
       "      <td>2,31,485</td>\n",
       "      <td>11,854</td>\n",
       "      <td>₹62,499</td>\n",
       "      <td>₹69,900</td>\n",
       "    </tr>\n",
       "    <tr>\n",
       "      <th>3</th>\n",
       "      <td>APPLE iPhone 13 (Blue, 128 GB)</td>\n",
       "      <td>https://www.flipkart.com/apple-iphone-13-blue-...</td>\n",
       "      <td>4.7</td>\n",
       "      <td>2,31,485</td>\n",
       "      <td>11,854</td>\n",
       "      <td>₹62,499</td>\n",
       "      <td>₹69,900</td>\n",
       "    </tr>\n",
       "    <tr>\n",
       "      <th>4</th>\n",
       "      <td>APPLE iPhone 13 (Green, 128 GB)</td>\n",
       "      <td>https://www.flipkart.com/apple-iphone-13-green...</td>\n",
       "      <td>4.7</td>\n",
       "      <td>2,31,485</td>\n",
       "      <td>11,854</td>\n",
       "      <td>₹63,499</td>\n",
       "      <td>₹69,900</td>\n",
       "    </tr>\n",
       "    <tr>\n",
       "      <th>...</th>\n",
       "      <td>...</td>\n",
       "      <td>...</td>\n",
       "      <td>...</td>\n",
       "      <td>...</td>\n",
       "      <td>...</td>\n",
       "      <td>...</td>\n",
       "      <td>...</td>\n",
       "    </tr>\n",
       "    <tr>\n",
       "      <th>10</th>\n",
       "      <td>APPLE iPhone 5s (Silver, 16 GB)</td>\n",
       "      <td>https://www.flipkart.com/apple-iphone-5s-silve...</td>\n",
       "      <td>4.4</td>\n",
       "      <td>62,770</td>\n",
       "      <td>7,342</td>\n",
       "      <td>₹25,000</td>\n",
       "      <td>₹94,900</td>\n",
       "    </tr>\n",
       "    <tr>\n",
       "      <th>11</th>\n",
       "      <td>APPLE iPhone 13 (Starlight, 512 GB)</td>\n",
       "      <td>https://www.flipkart.com/apple-iphone-13-starl...</td>\n",
       "      <td>4.7</td>\n",
       "      <td>2,31,485</td>\n",
       "      <td>12,278</td>\n",
       "      <td>₹85,999</td>\n",
       "      <td>₹52,000</td>\n",
       "    </tr>\n",
       "    <tr>\n",
       "      <th>12</th>\n",
       "      <td>APPLE iPhone 14 Pro Max (Gold, 256 GB)</td>\n",
       "      <td>https://www.flipkart.com/apple-iphone-14-pro-m...</td>\n",
       "      <td>4.6</td>\n",
       "      <td>1,627</td>\n",
       "      <td>121</td>\n",
       "      <td>₹1,37,999</td>\n",
       "      <td>₹1,09,900</td>\n",
       "    </tr>\n",
       "    <tr>\n",
       "      <th>13</th>\n",
       "      <td>APPLE iPhone 13 mini (Pink, 512 GB)</td>\n",
       "      <td>https://www.flipkart.com/apple-iphone-13-mini-...</td>\n",
       "      <td>4.5</td>\n",
       "      <td>3,406</td>\n",
       "      <td>297</td>\n",
       "      <td>₹89,999</td>\n",
       "      <td>₹1,24,900</td>\n",
       "    </tr>\n",
       "    <tr>\n",
       "      <th>14</th>\n",
       "      <td>APPLE iPhone 5s (Space Grey, 16 GB)</td>\n",
       "      <td>https://www.flipkart.com/apple-iphone-5s-space...</td>\n",
       "      <td>4.4</td>\n",
       "      <td>62,770</td>\n",
       "      <td>7,342</td>\n",
       "      <td>₹25,000</td>\n",
       "      <td>₹1,69,900</td>\n",
       "    </tr>\n",
       "  </tbody>\n",
       "</table>\n",
       "<p>109 rows × 7 columns</p>\n",
       "</div>"
      ],
      "text/plain": [
       "                                 prod_name  \\\n",
       "0       APPLE iPhone 13 (Midnight, 128 GB)   \n",
       "1           APPLE iPhone 13 (Pink, 128 GB)   \n",
       "2      APPLE iPhone 13 (Starlight, 128 GB)   \n",
       "3           APPLE iPhone 13 (Blue, 128 GB)   \n",
       "4          APPLE iPhone 13 (Green, 128 GB)   \n",
       "..                                     ...   \n",
       "10         APPLE iPhone 5s (Silver, 16 GB)   \n",
       "11     APPLE iPhone 13 (Starlight, 512 GB)   \n",
       "12  APPLE iPhone 14 Pro Max (Gold, 256 GB)   \n",
       "13     APPLE iPhone 13 mini (Pink, 512 GB)   \n",
       "14     APPLE iPhone 5s (Space Grey, 16 GB)   \n",
       "\n",
       "                                            prod_link Star_Rating  \\\n",
       "0   https://www.flipkart.com/apple-iphone-13-midni...         4.7   \n",
       "1   https://www.flipkart.com/apple-iphone-13-pink-...         4.7   \n",
       "2   https://www.flipkart.com/apple-iphone-13-starl...         4.7   \n",
       "3   https://www.flipkart.com/apple-iphone-13-blue-...         4.7   \n",
       "4   https://www.flipkart.com/apple-iphone-13-green...         4.7   \n",
       "..                                                ...         ...   \n",
       "10  https://www.flipkart.com/apple-iphone-5s-silve...         4.4   \n",
       "11  https://www.flipkart.com/apple-iphone-13-starl...         4.7   \n",
       "12  https://www.flipkart.com/apple-iphone-14-pro-m...         4.6   \n",
       "13  https://www.flipkart.com/apple-iphone-13-mini-...         4.5   \n",
       "14  https://www.flipkart.com/apple-iphone-5s-space...         4.4   \n",
       "\n",
       "   Number_Of_Ratings Number_Of_Reviews Sale_Price        mrp  \n",
       "0           2,31,485           11,854     ₹62,499    ₹69,900  \n",
       "1           2,31,485           11,854     ₹62,499    ₹69,900  \n",
       "2           2,31,485           11,854     ₹62,499    ₹69,900  \n",
       "3           2,31,485           11,854     ₹62,499    ₹69,900  \n",
       "4           2,31,485           11,854     ₹63,499    ₹69,900  \n",
       "..               ...               ...        ...        ...  \n",
       "10            62,770            7,342     ₹25,000    ₹94,900  \n",
       "11          2,31,485           12,278     ₹85,999    ₹52,000  \n",
       "12             1,627              121   ₹1,37,999  ₹1,09,900  \n",
       "13             3,406              297     ₹89,999  ₹1,24,900  \n",
       "14            62,770            7,342     ₹25,000  ₹1,69,900  \n",
       "\n",
       "[109 rows x 7 columns]"
      ]
     },
     "execution_count": 9,
     "metadata": {},
     "output_type": "execute_result"
    }
   ],
   "source": [
    "df"
   ]
  },
  {
   "cell_type": "code",
   "execution_count": 10,
   "id": "7cb2780a",
   "metadata": {},
   "outputs": [],
   "source": [
    "df['Star_Rating']=df['Star_Rating'].astype('float')"
   ]
  },
  {
   "cell_type": "code",
   "execution_count": 12,
   "id": "b4a5a101",
   "metadata": {
    "scrolled": true
   },
   "outputs": [],
   "source": [
    "df['Number_Of_Reviews']=df['Number_Of_Reviews'].str.replace(',','').astype('int')"
   ]
  },
  {
   "cell_type": "code",
   "execution_count": 18,
   "id": "a2a42347",
   "metadata": {
    "scrolled": true
   },
   "outputs": [],
   "source": [
    "df['Number_Of_Ratings']=df['Number_Of_Ratings'].str.replace(',','').astype('int')"
   ]
  },
  {
   "cell_type": "code",
   "execution_count": 15,
   "id": "ae7da75b",
   "metadata": {},
   "outputs": [],
   "source": [
    "df['Sale_Price']=df['Sale_Price'].str[1:].str.replace(',','').astype('int')"
   ]
  },
  {
   "cell_type": "code",
   "execution_count": 16,
   "id": "26a090ce",
   "metadata": {},
   "outputs": [],
   "source": [
    "df['mrp']=df['mrp'].str[1:].str.replace(',','').astype('int')"
   ]
  },
  {
   "cell_type": "code",
   "execution_count": 19,
   "id": "aef0cadf",
   "metadata": {},
   "outputs": [
    {
     "data": {
      "text/plain": [
       "prod_name             object\n",
       "prod_link             object\n",
       "Star_Rating          float64\n",
       "Number_Of_Ratings      int32\n",
       "Number_Of_Reviews      int32\n",
       "Sale_Price             int32\n",
       "mrp                    int32\n",
       "dtype: object"
      ]
     },
     "execution_count": 19,
     "metadata": {},
     "output_type": "execute_result"
    }
   ],
   "source": [
    "df.dtypes"
   ]
  },
  {
   "cell_type": "code",
   "execution_count": 20,
   "id": "5ff3c727",
   "metadata": {},
   "outputs": [
    {
     "data": {
      "text/plain": [
       "Text(0.5, 1.0, 'Distribution of Customer Ratings')"
      ]
     },
     "execution_count": 20,
     "metadata": {},
     "output_type": "execute_result"
    },
    {
     "data": {
      "image/png": "[encoded data removed]",
      "text/plain": [
       "<Figure size 640x480 with 1 Axes>"
      ]
     },
     "metadata": {},
     "output_type": "display_data"
    }
   ],
   "source": [
    "# It is the distribution of product ratings. This provides insights into the popularity and satisfaction level of the products.\n",
    "\n",
    "\n",
    "df['Star_Rating'].plot.hist(bins=10, edgecolor='black')\n",
    "mpl.pyplot.xlabel('Ratings')\n",
    "mpl.pyplot.ylabel('Frequency')\n",
    "mpl.pyplot.title('Distribution of Customer Ratings')"
   ]
  },
  {
   "cell_type": "code",
   "execution_count": 21,
   "id": "e4711239",
   "metadata": {},
   "outputs": [
    {
     "data": {
      "text/plain": [
       "APPLE iPhone 14 Plus (Midnight, 256 GB)     2\n",
       "APPLE iPhone 14 Pro (Gold, 128 GB)          1\n",
       "APPLE iPhone 14 Pro Max (Gold, 512 GB)      1\n",
       "APPLE iPhone 13 Pro Max (Silver, 512 GB)    1\n",
       "APPLE iPhone 14 (Midnight, 256 GB)          1\n",
       "APPLE iPhone 11 (Black, 64 GB)              1\n",
       "APPLE iPhone 13 Pro Max (Silver, 256 GB)    1\n",
       "APPLE iPhone 12 (Black, 128 GB)             1\n",
       "APPLE iPhone 13 Pro (Gold, 256 GB)          1\n",
       "APPLE iPhone 14 (Starlight, 128 GB)         1\n",
       "Name: prod_name, dtype: int64"
      ]
     },
     "execution_count": 21,
     "metadata": {},
     "output_type": "execute_result"
    }
   ],
   "source": [
    "#  Explored the distribution of customer ratings and identified popular products\n",
    "\n",
    "df['prod_name'].value_counts().head(10)"
   ]
  },
  {
   "cell_type": "code",
   "execution_count": 22,
   "id": "d8523681",
   "metadata": {
    "scrolled": true
   },
   "outputs": [],
   "source": [
    "#  create a new column in the dataframe \"Discount_Percentage\" based on MRP and sale value\n",
    "\n",
    "df['Discount']=(df['mrp']-df['Sale_Price'])*100.0/df['mrp']"
   ]
  },
  {
   "cell_type": "code",
   "execution_count": 23,
   "id": "1b2e26f7",
   "metadata": {},
   "outputs": [
    {
     "data": {
      "text/html": [
       "<div>\n",
       "<style scoped>\n",
       "    .dataframe tbody tr th:only-of-type {\n",
       "        vertical-align: middle;\n",
       "    }\n",
       "\n",
       "    .dataframe tbody tr th {\n",
       "        vertical-align: top;\n",
       "    }\n",
       "\n",
       "    .dataframe thead th {\n",
       "        text-align: right;\n",
       "    }\n",
       "</style>\n",
       "<table border=\"1\" class=\"dataframe\">\n",
       "  <thead>\n",
       "    <tr style=\"text-align: right;\">\n",
       "      <th></th>\n",
       "      <th>prod_name</th>\n",
       "      <th>prod_link</th>\n",
       "      <th>Star_Rating</th>\n",
       "      <th>Number_Of_Ratings</th>\n",
       "      <th>Number_Of_Reviews</th>\n",
       "      <th>Sale_Price</th>\n",
       "      <th>mrp</th>\n",
       "      <th>Discount</th>\n",
       "    </tr>\n",
       "  </thead>\n",
       "  <tbody>\n",
       "    <tr>\n",
       "      <th>14</th>\n",
       "      <td>APPLE iPhone 5s (Space Grey, 16 GB)</td>\n",
       "      <td>https://www.flipkart.com/apple-iphone-5s-space...</td>\n",
       "      <td>4.4</td>\n",
       "      <td>62770</td>\n",
       "      <td>7342</td>\n",
       "      <td>25000</td>\n",
       "      <td>169900</td>\n",
       "      <td>85.285462</td>\n",
       "    </tr>\n",
       "  </tbody>\n",
       "</table>\n",
       "</div>"
      ],
      "text/plain": [
       "                              prod_name  \\\n",
       "14  APPLE iPhone 5s (Space Grey, 16 GB)   \n",
       "\n",
       "                                            prod_link  Star_Rating  \\\n",
       "14  https://www.flipkart.com/apple-iphone-5s-space...          4.4   \n",
       "\n",
       "    Number_Of_Ratings  Number_Of_Reviews  Sale_Price     mrp   Discount  \n",
       "14              62770               7342       25000  169900  85.285462  "
      ]
     },
     "execution_count": 23,
     "metadata": {},
     "output_type": "execute_result"
    }
   ],
   "source": [
    "# maximum discount available on which product\n",
    "\n",
    "df.loc[df['Discount']==df['Discount'].max(),:]"
   ]
  },
  {
   "cell_type": "code",
   "execution_count": 24,
   "id": "a3d479a8",
   "metadata": {},
   "outputs": [
    {
     "data": {
      "text/plain": [
       "128    31\n",
       "64     11\n",
       "Name: Rom, dtype: int64"
      ]
     },
     "execution_count": 24,
     "metadata": {},
     "output_type": "execute_result"
    }
   ],
   "source": [
    "#  find total no of models  each space configuration (128 GB , 64 GB etc)\n",
    "\n",
    "df['Rom']=df['prod_name'].str.split(',').str[1].str[:-3].str.strip()\n",
    "df[(df['Rom']=='64') | (df['Rom']=='128')]['Rom'].value_counts()"
   ]
  },
  {
   "cell_type": "code",
   "execution_count": 25,
   "id": "d372e56d",
   "metadata": {
    "scrolled": true
   },
   "outputs": [
    {
     "data": {
      "text/plain": [
       "Silver          12\n",
       "Gold            11\n",
       "Midnight        10\n",
       "Starlight        9\n",
       "Blue             9\n",
       "                 8\n",
       "Green            7\n",
       "Space Black      6\n",
       "Space Grey       5\n",
       "Purple           5\n",
       "Black            5\n",
       "Yellow           4\n",
       "Red              3\n",
       "White            3\n",
       "Deep Purple      3\n",
       "Graphite         3\n",
       "Sierra Blue      2\n",
       "Alpine Green     2\n",
       "Pink             2\n",
       "Name: color, dtype: int64"
      ]
     },
     "execution_count": 25,
     "metadata": {},
     "output_type": "execute_result"
    }
   ],
   "source": [
    "#  find total number of models for each color\n",
    "\n",
    "df['color']=df['prod_name'].str.split('(').str[1].str.split(',').str[0]\n",
    "df['color'].value_counts()"
   ]
  },
  {
   "cell_type": "code",
   "execution_count": 26,
   "id": "ccaf12a7",
   "metadata": {},
   "outputs": [
    {
     "data": {
      "text/plain": [
       "iPhone 14 Plus        16\n",
       "iPhone 14             16\n",
       "iPhone 14 Pro         13\n",
       "iPhone 13             13\n",
       "iPhone 13 Pro Max     10\n",
       "iPhone 14 Pro Max      9\n",
       "iPhone 12              9\n",
       "iPhone 11              8\n",
       "iPhone 13 Pro          6\n",
       "iPhone 13 mini         3\n",
       "iPhone 5s              2\n",
       "iPhone 8               1\n",
       "iPhone 6               1\n",
       "iPhone 11 Pro Max      1\n",
       "iPhone 8 Plus          1\n",
       "Name: iphone_ver, dtype: int64"
      ]
     },
     "execution_count": 26,
     "metadata": {},
     "output_type": "execute_result"
    }
   ],
   "source": [
    "#   find total number of models by iphone version\n",
    "\n",
    "df['iphone_ver']=df['prod_name'].str.split('(').str[0].str[6:]\n",
    "df['iphone_ver'].value_counts()"
   ]
  },
  {
   "cell_type": "code",
   "execution_count": 27,
   "id": "314e7357",
   "metadata": {
    "scrolled": true
   },
   "outputs": [
    {
     "data": {
      "text/html": [
       "<div>\n",
       "<style scoped>\n",
       "    .dataframe tbody tr th:only-of-type {\n",
       "        vertical-align: middle;\n",
       "    }\n",
       "\n",
       "    .dataframe tbody tr th {\n",
       "        vertical-align: top;\n",
       "    }\n",
       "\n",
       "    .dataframe thead th {\n",
       "        text-align: right;\n",
       "    }\n",
       "</style>\n",
       "<table border=\"1\" class=\"dataframe\">\n",
       "  <thead>\n",
       "    <tr style=\"text-align: right;\">\n",
       "      <th></th>\n",
       "      <th>prod_name</th>\n",
       "      <th>prod_link</th>\n",
       "      <th>Star_Rating</th>\n",
       "      <th>Number_Of_Ratings</th>\n",
       "      <th>Number_Of_Reviews</th>\n",
       "      <th>Sale_Price</th>\n",
       "      <th>mrp</th>\n",
       "      <th>Discount</th>\n",
       "      <th>Rom</th>\n",
       "      <th>color</th>\n",
       "      <th>iphone_ver</th>\n",
       "    </tr>\n",
       "  </thead>\n",
       "  <tbody>\n",
       "    <tr>\n",
       "      <th>2</th>\n",
       "      <td>APPLE iPhone 6 (Space Grey, 32 GB)</td>\n",
       "      <td>https://www.flipkart.com/apple-iphone-6-space-...</td>\n",
       "      <td>4.4</td>\n",
       "      <td>145620</td>\n",
       "      <td>16235</td>\n",
       "      <td>30780</td>\n",
       "      <td>31900</td>\n",
       "      <td>3.510972</td>\n",
       "      <td>32</td>\n",
       "      <td>Space Grey</td>\n",
       "      <td>iPhone 6</td>\n",
       "    </tr>\n",
       "    <tr>\n",
       "      <th>1</th>\n",
       "      <td>APPLE iPhone 12 (White, 64 GB)</td>\n",
       "      <td>https://www.flipkart.com/apple-iphone-12-white...</td>\n",
       "      <td>4.6</td>\n",
       "      <td>189813</td>\n",
       "      <td>12872</td>\n",
       "      <td>53999</td>\n",
       "      <td>59900</td>\n",
       "      <td>9.851419</td>\n",
       "      <td>64</td>\n",
       "      <td>White</td>\n",
       "      <td>iPhone 12</td>\n",
       "    </tr>\n",
       "    <tr>\n",
       "      <th>18</th>\n",
       "      <td>APPLE iPhone 12 (Red, 128 GB)</td>\n",
       "      <td>https://www.flipkart.com/apple-iphone-12-red-1...</td>\n",
       "      <td>4.6</td>\n",
       "      <td>189813</td>\n",
       "      <td>12872</td>\n",
       "      <td>57999</td>\n",
       "      <td>64900</td>\n",
       "      <td>10.633282</td>\n",
       "      <td>128</td>\n",
       "      <td>Red</td>\n",
       "      <td>iPhone 12</td>\n",
       "    </tr>\n",
       "    <tr>\n",
       "      <th>3</th>\n",
       "      <td>APPLE iPhone 12 (Black, 64 GB)</td>\n",
       "      <td>https://www.flipkart.com/apple-iphone-12-black...</td>\n",
       "      <td>4.6</td>\n",
       "      <td>189813</td>\n",
       "      <td>12872</td>\n",
       "      <td>53999</td>\n",
       "      <td>59900</td>\n",
       "      <td>9.851419</td>\n",
       "      <td>64</td>\n",
       "      <td>Black</td>\n",
       "      <td>iPhone 12</td>\n",
       "    </tr>\n",
       "    <tr>\n",
       "      <th>7</th>\n",
       "      <td>APPLE iPhone 12 (Black, 128 GB)</td>\n",
       "      <td>https://www.flipkart.com/apple-iphone-12-black...</td>\n",
       "      <td>4.6</td>\n",
       "      <td>189813</td>\n",
       "      <td>12872</td>\n",
       "      <td>57999</td>\n",
       "      <td>94900</td>\n",
       "      <td>38.884089</td>\n",
       "      <td>128</td>\n",
       "      <td>Black</td>\n",
       "      <td>iPhone 12</td>\n",
       "    </tr>\n",
       "  </tbody>\n",
       "</table>\n",
       "</div>"
      ],
      "text/plain": [
       "                             prod_name  \\\n",
       "2   APPLE iPhone 6 (Space Grey, 32 GB)   \n",
       "1       APPLE iPhone 12 (White, 64 GB)   \n",
       "18       APPLE iPhone 12 (Red, 128 GB)   \n",
       "3       APPLE iPhone 12 (Black, 64 GB)   \n",
       "7      APPLE iPhone 12 (Black, 128 GB)   \n",
       "\n",
       "                                            prod_link  Star_Rating  \\\n",
       "2   https://www.flipkart.com/apple-iphone-6-space-...          4.4   \n",
       "1   https://www.flipkart.com/apple-iphone-12-white...          4.6   \n",
       "18  https://www.flipkart.com/apple-iphone-12-red-1...          4.6   \n",
       "3   https://www.flipkart.com/apple-iphone-12-black...          4.6   \n",
       "7   https://www.flipkart.com/apple-iphone-12-black...          4.6   \n",
       "\n",
       "    Number_Of_Ratings  Number_Of_Reviews  Sale_Price    mrp   Discount  Rom  \\\n",
       "2              145620              16235       30780  31900   3.510972   32   \n",
       "1              189813              12872       53999  59900   9.851419   64   \n",
       "18             189813              12872       57999  64900  10.633282  128   \n",
       "3              189813              12872       53999  59900   9.851419   64   \n",
       "7              189813              12872       57999  94900  38.884089  128   \n",
       "\n",
       "         color  iphone_ver  \n",
       "2   Space Grey   iPhone 6   \n",
       "1        White  iPhone 12   \n",
       "18         Red  iPhone 12   \n",
       "3        Black  iPhone 12   \n",
       "7        Black  iPhone 12   "
      ]
     },
     "execution_count": 27,
     "metadata": {},
     "output_type": "execute_result"
    }
   ],
   "source": [
    "#   list top 5 models having highest no of reviews\n",
    "\n",
    "df.sort_values('Number_Of_Reviews',ascending=False).head()"
   ]
  },
  {
   "cell_type": "code",
   "execution_count": 28,
   "id": "222bd0ed",
   "metadata": {
    "scrolled": true
   },
   "outputs": [
    {
     "data": {
      "text/html": [
       "<div>\n",
       "<style scoped>\n",
       "    .dataframe tbody tr th:only-of-type {\n",
       "        vertical-align: middle;\n",
       "    }\n",
       "\n",
       "    .dataframe tbody tr th {\n",
       "        vertical-align: top;\n",
       "    }\n",
       "\n",
       "    .dataframe thead th {\n",
       "        text-align: right;\n",
       "    }\n",
       "</style>\n",
       "<table border=\"1\" class=\"dataframe\">\n",
       "  <thead>\n",
       "    <tr style=\"text-align: right;\">\n",
       "      <th></th>\n",
       "      <th>Number_Of_Reviews</th>\n",
       "    </tr>\n",
       "    <tr>\n",
       "      <th>iphone_cat</th>\n",
       "      <th></th>\n",
       "    </tr>\n",
       "  </thead>\n",
       "  <tbody>\n",
       "    <tr>\n",
       "      <th>iphone11</th>\n",
       "      <td>90901</td>\n",
       "    </tr>\n",
       "    <tr>\n",
       "      <th>iphone12</th>\n",
       "      <td>115818</td>\n",
       "    </tr>\n",
       "  </tbody>\n",
       "</table>\n",
       "</div>"
      ],
      "text/plain": [
       "            Number_Of_Reviews\n",
       "iphone_cat                   \n",
       "iphone11                90901\n",
       "iphone12               115818"
      ]
     },
     "execution_count": 28,
     "metadata": {},
     "output_type": "execute_result"
    }
   ],
   "source": [
    "#   find total no of reviews for iphone 11 and iphone 12 category\n",
    "\n",
    "df['iphone_cat']=df['iphone_ver'].str.split(' ').str[1]\n",
    "df['iphone_cat']='iphone' +df['iphone_cat']\n",
    "df[(df['iphone_cat']=='iphone11') | (df['iphone_cat']=='iphone12')].groupby(['iphone_cat']).agg({'Number_Of_Reviews':'sum'})"
   ]
  },
  {
   "cell_type": "code",
   "execution_count": 29,
   "id": "cec165b2",
   "metadata": {
    "scrolled": true
   },
   "outputs": [
    {
     "data": {
      "text/html": [
       "<div>\n",
       "<style scoped>\n",
       "    .dataframe tbody tr th:only-of-type {\n",
       "        vertical-align: middle;\n",
       "    }\n",
       "\n",
       "    .dataframe tbody tr th {\n",
       "        vertical-align: top;\n",
       "    }\n",
       "\n",
       "    .dataframe thead th {\n",
       "        text-align: right;\n",
       "    }\n",
       "</style>\n",
       "<table border=\"1\" class=\"dataframe\">\n",
       "  <thead>\n",
       "    <tr style=\"text-align: right;\">\n",
       "      <th></th>\n",
       "      <th>prod_name</th>\n",
       "      <th>prod_link</th>\n",
       "      <th>Star_Rating</th>\n",
       "      <th>Number_Of_Ratings</th>\n",
       "      <th>Number_Of_Reviews</th>\n",
       "      <th>Sale_Price</th>\n",
       "      <th>mrp</th>\n",
       "      <th>Discount</th>\n",
       "      <th>Rom</th>\n",
       "      <th>color</th>\n",
       "      <th>iphone_ver</th>\n",
       "      <th>iphone_cat</th>\n",
       "    </tr>\n",
       "  </thead>\n",
       "  <tbody>\n",
       "    <tr>\n",
       "      <th>3</th>\n",
       "      <td>APPLE iPhone 13 Pro Max (Alpine Green, 512 GB)</td>\n",
       "      <td>https://www.flipkart.com/apple-iphone-13-pro-m...</td>\n",
       "      <td>4.6</td>\n",
       "      <td>1902</td>\n",
       "      <td>186</td>\n",
       "      <td>134999</td>\n",
       "      <td>159900</td>\n",
       "      <td>15.572858</td>\n",
       "      <td>512</td>\n",
       "      <td>Alpine Green</td>\n",
       "      <td>iPhone 13 Pro Max</td>\n",
       "      <td>iphone13</td>\n",
       "    </tr>\n",
       "    <tr>\n",
       "      <th>12</th>\n",
       "      <td>APPLE iPhone 13 Pro Max (Sierra Blue, 512 GB)</td>\n",
       "      <td>https://www.flipkart.com/apple-iphone-13-pro-m...</td>\n",
       "      <td>4.6</td>\n",
       "      <td>1902</td>\n",
       "      <td>186</td>\n",
       "      <td>134999</td>\n",
       "      <td>159900</td>\n",
       "      <td>15.572858</td>\n",
       "      <td>512</td>\n",
       "      <td>Sierra Blue</td>\n",
       "      <td>iPhone 13 Pro Max</td>\n",
       "      <td>iphone13</td>\n",
       "    </tr>\n",
       "    <tr>\n",
       "      <th>17</th>\n",
       "      <td>APPLE iPhone 14 Pro (Gold, 512 GB)</td>\n",
       "      <td>https://www.flipkart.com/apple-iphone-14-pro-g...</td>\n",
       "      <td>4.7</td>\n",
       "      <td>1428</td>\n",
       "      <td>112</td>\n",
       "      <td>149999</td>\n",
       "      <td>159900</td>\n",
       "      <td>6.191995</td>\n",
       "      <td>512</td>\n",
       "      <td>Gold</td>\n",
       "      <td>iPhone 14 Pro</td>\n",
       "      <td>iphone14</td>\n",
       "    </tr>\n",
       "    <tr>\n",
       "      <th>21</th>\n",
       "      <td>APPLE iPhone 14 Pro (Space Black, 512 GB)</td>\n",
       "      <td>https://www.flipkart.com/apple-iphone-14-pro-s...</td>\n",
       "      <td>4.7</td>\n",
       "      <td>1428</td>\n",
       "      <td>112</td>\n",
       "      <td>149999</td>\n",
       "      <td>159900</td>\n",
       "      <td>6.191995</td>\n",
       "      <td>512</td>\n",
       "      <td>Space Black</td>\n",
       "      <td>iPhone 14 Pro</td>\n",
       "      <td>iphone14</td>\n",
       "    </tr>\n",
       "    <tr>\n",
       "      <th>22</th>\n",
       "      <td>APPLE iPhone 13 Pro Max (Silver, 512 GB)</td>\n",
       "      <td>https://www.flipkart.com/apple-iphone-13-pro-m...</td>\n",
       "      <td>4.6</td>\n",
       "      <td>1902</td>\n",
       "      <td>186</td>\n",
       "      <td>134999</td>\n",
       "      <td>159900</td>\n",
       "      <td>15.572858</td>\n",
       "      <td>512</td>\n",
       "      <td>Silver</td>\n",
       "      <td>iPhone 13 Pro Max</td>\n",
       "      <td>iphone13</td>\n",
       "    </tr>\n",
       "    <tr>\n",
       "      <th>23</th>\n",
       "      <td>APPLE iPhone 14 Pro (Silver, 512 GB)</td>\n",
       "      <td>https://www.flipkart.com/apple-iphone-14-pro-s...</td>\n",
       "      <td>4.7</td>\n",
       "      <td>1428</td>\n",
       "      <td>112</td>\n",
       "      <td>149999</td>\n",
       "      <td>159900</td>\n",
       "      <td>6.191995</td>\n",
       "      <td>512</td>\n",
       "      <td>Silver</td>\n",
       "      <td>iPhone 14 Pro</td>\n",
       "      <td>iphone14</td>\n",
       "    </tr>\n",
       "    <tr>\n",
       "      <th>10</th>\n",
       "      <td>APPLE iPhone 13 mini ((PRODUCT)RED, 512 GB)</td>\n",
       "      <td>https://www.flipkart.com/apple-iphone-13-mini-...</td>\n",
       "      <td>4.5</td>\n",
       "      <td>3406</td>\n",
       "      <td>295</td>\n",
       "      <td>89999</td>\n",
       "      <td>159900</td>\n",
       "      <td>43.715447</td>\n",
       "      <td>512</td>\n",
       "      <td></td>\n",
       "      <td>iPhone 13 mini</td>\n",
       "      <td>iphone13</td>\n",
       "    </tr>\n",
       "    <tr>\n",
       "      <th>1</th>\n",
       "      <td>APPLE iPhone 13 Pro Max (Graphite, 512 GB)</td>\n",
       "      <td>https://www.flipkart.com/apple-iphone-13-pro-m...</td>\n",
       "      <td>4.6</td>\n",
       "      <td>1902</td>\n",
       "      <td>186</td>\n",
       "      <td>134999</td>\n",
       "      <td>159900</td>\n",
       "      <td>15.572858</td>\n",
       "      <td>512</td>\n",
       "      <td>Graphite</td>\n",
       "      <td>iPhone 13 Pro Max</td>\n",
       "      <td>iphone13</td>\n",
       "    </tr>\n",
       "  </tbody>\n",
       "</table>\n",
       "</div>"
      ],
      "text/plain": [
       "                                         prod_name  \\\n",
       "3   APPLE iPhone 13 Pro Max (Alpine Green, 512 GB)   \n",
       "12   APPLE iPhone 13 Pro Max (Sierra Blue, 512 GB)   \n",
       "17              APPLE iPhone 14 Pro (Gold, 512 GB)   \n",
       "21       APPLE iPhone 14 Pro (Space Black, 512 GB)   \n",
       "22        APPLE iPhone 13 Pro Max (Silver, 512 GB)   \n",
       "23            APPLE iPhone 14 Pro (Silver, 512 GB)   \n",
       "10     APPLE iPhone 13 mini ((PRODUCT)RED, 512 GB)   \n",
       "1       APPLE iPhone 13 Pro Max (Graphite, 512 GB)   \n",
       "\n",
       "                                            prod_link  Star_Rating  \\\n",
       "3   https://www.flipkart.com/apple-iphone-13-pro-m...          4.6   \n",
       "12  https://www.flipkart.com/apple-iphone-13-pro-m...          4.6   \n",
       "17  https://www.flipkart.com/apple-iphone-14-pro-g...          4.7   \n",
       "21  https://www.flipkart.com/apple-iphone-14-pro-s...          4.7   \n",
       "22  https://www.flipkart.com/apple-iphone-13-pro-m...          4.6   \n",
       "23  https://www.flipkart.com/apple-iphone-14-pro-s...          4.7   \n",
       "10  https://www.flipkart.com/apple-iphone-13-mini-...          4.5   \n",
       "1   https://www.flipkart.com/apple-iphone-13-pro-m...          4.6   \n",
       "\n",
       "    Number_Of_Ratings  Number_Of_Reviews  Sale_Price     mrp   Discount  Rom  \\\n",
       "3                1902                186      134999  159900  15.572858  512   \n",
       "12               1902                186      134999  159900  15.572858  512   \n",
       "17               1428                112      149999  159900   6.191995  512   \n",
       "21               1428                112      149999  159900   6.191995  512   \n",
       "22               1902                186      134999  159900  15.572858  512   \n",
       "23               1428                112      149999  159900   6.191995  512   \n",
       "10               3406                295       89999  159900  43.715447  512   \n",
       "1                1902                186      134999  159900  15.572858  512   \n",
       "\n",
       "           color          iphone_ver iphone_cat  \n",
       "3   Alpine Green  iPhone 13 Pro Max    iphone13  \n",
       "12   Sierra Blue  iPhone 13 Pro Max    iphone13  \n",
       "17          Gold      iPhone 14 Pro    iphone14  \n",
       "21   Space Black      iPhone 14 Pro    iphone14  \n",
       "22        Silver  iPhone 13 Pro Max    iphone13  \n",
       "23        Silver      iPhone 14 Pro    iphone14  \n",
       "10                   iPhone 13 mini    iphone13  \n",
       "1       Graphite  iPhone 13 Pro Max    iphone13  "
      ]
     },
     "execution_count": 29,
     "metadata": {},
     "output_type": "execute_result"
    }
   ],
   "source": [
    "##  which iphone has 3rd highest MRP\n",
    "\n",
    "df[df['mrp']== df['mrp'].sort_values(ascending=False).unique()[2]]"
   ]
  },
  {
   "cell_type": "code",
   "execution_count": 30,
   "id": "2bd5656b",
   "metadata": {},
   "outputs": [
    {
     "data": {
      "text/plain": [
       "<AxesSubplot:xlabel='iphone_cat'>"
      ]
     },
     "execution_count": 30,
     "metadata": {},
     "output_type": "execute_result"
    },
    {
     "data": {
      "image/png": "[encoded data removed]",
      "text/plain": [
       "<Figure size 640x480 with 1 Axes>"
      ]
     },
     "metadata": {},
     "output_type": "display_data"
    }
   ],
   "source": [
    "##  minimum and maximum prices of each iphone category\n",
    "\n",
    "group_data=df.groupby('iphone_cat')['Sale_Price'].agg(['min','max'])\n",
    "group_data.plot(kind='bar')"
   ]
  },
  {
   "cell_type": "code",
   "execution_count": 31,
   "id": "4677e962",
   "metadata": {},
   "outputs": [
    {
     "data": {
      "text/plain": [
       "Text(0.5, 1.0, 'Top Brands by Product Availability')"
      ]
     },
     "execution_count": 31,
     "metadata": {},
     "output_type": "execute_result"
    },
    {
     "data": {
      "image/png": "[encoded data removed]",
      "text/plain": [
       "<Figure size 640x480 with 1 Axes>"
      ]
     },
     "metadata": {},
     "output_type": "display_data"
    }
   ],
   "source": [
    "#Analyze the data to identify the top brands in terms of product availability \n",
    "\n",
    "\n",
    "brand_ava=df.groupby('iphone_cat')['iphone_ver'].nunique()\n",
    "\n",
    "sns.barplot(x=brand_ava.index, y=brand_ava.values)\n",
    "mpl.pyplot.xlabel('Brand')\n",
    "mpl.pyplot.ylabel('Product Availability')\n",
    "mpl.pyplot.title('Top Brands by Product Availability')"
   ]
  },
  {
   "cell_type": "code",
   "execution_count": 33,
   "id": "ad7d1226",
   "metadata": {
    "scrolled": true
   },
   "outputs": [
    {
     "data": {
      "text/plain": [
       "Text(0.5, 1.0, 'Relationship between Ratings and Prices')"
      ]
     },
     "execution_count": 33,
     "metadata": {},
     "output_type": "execute_result"
    },
    {
     "data": {
      "image/png": "[encoded data removed]",
      "text/plain": [
       "<Figure size 800x600 with 1 Axes>"
      ]
     },
     "metadata": {},
     "output_type": "display_data"
    }
   ],
   "source": [
    "##  Analysis to understand the relationship between ratings and price.\n",
    "\n",
    "df1=df[['Sale_Price','Star_Rating']]\n",
    "\n",
    "\n",
    "# Create a scatter plot of ratings vs prices\n",
    "mpl.pyplot.figure(figsize=(8, 6))\n",
    "sns.scatterplot(data=df1, x='Star_Rating', y='Sale_Price')\n",
    "mpl.pyplot.xlabel('Star_Rating')\n",
    "mpl.pyplot.ylabel('Sale_Price')\n",
    "mpl.pyplot.title('Relationship between Ratings and Prices')\n",
    "\n"
   ]
  },
  {
   "cell_type": "code",
   "execution_count": 69,
   "id": "bad599a7",
   "metadata": {},
   "outputs": [
    {
     "data": {
      "text/plain": [
       "Index(['prod_name', 'prod_link', 'Star_Rating', 'Number Of Ratings',\n",
       "       'Number Of Reviews', 'Sale Price', 'mrp', 'Discount', 'Rom', 'color',\n",
       "       'iphone_ver', 'iphone_cat'],\n",
       "      dtype='object')"
      ]
     },
     "execution_count": 69,
     "metadata": {},
     "output_type": "execute_result"
    }
   ],
   "source": [
    "df.columns"
   ]
  },
  {
   "cell_type": "code",
   "execution_count": 34,
   "id": "f1f75470",
   "metadata": {},
   "outputs": [
    {
     "data": {
      "text/html": [
       "<div>\n",
       "<style scoped>\n",
       "    .dataframe tbody tr th:only-of-type {\n",
       "        vertical-align: middle;\n",
       "    }\n",
       "\n",
       "    .dataframe tbody tr th {\n",
       "        vertical-align: top;\n",
       "    }\n",
       "\n",
       "    .dataframe thead th {\n",
       "        text-align: right;\n",
       "    }\n",
       "</style>\n",
       "<table border=\"1\" class=\"dataframe\">\n",
       "  <thead>\n",
       "    <tr style=\"text-align: right;\">\n",
       "      <th></th>\n",
       "      <th>prod_name</th>\n",
       "      <th>prod_link</th>\n",
       "      <th>Star_Rating</th>\n",
       "      <th>Number_Of_Ratings</th>\n",
       "      <th>Number_Of_Reviews</th>\n",
       "      <th>Sale_Price</th>\n",
       "      <th>mrp</th>\n",
       "      <th>Discount</th>\n",
       "      <th>Rom</th>\n",
       "      <th>color</th>\n",
       "      <th>iphone_ver</th>\n",
       "      <th>iphone_cat</th>\n",
       "    </tr>\n",
       "  </thead>\n",
       "  <tbody>\n",
       "    <tr>\n",
       "      <th>21</th>\n",
       "      <td>APPLE iPhone 13 (Green, 512 GB)</td>\n",
       "      <td>https://www.flipkart.com/apple-iphone-13-green...</td>\n",
       "      <td>4.7</td>\n",
       "      <td>231485</td>\n",
       "      <td>11854</td>\n",
       "      <td>85999</td>\n",
       "      <td>169900</td>\n",
       "      <td>49.382578</td>\n",
       "      <td>512</td>\n",
       "      <td>Green</td>\n",
       "      <td>iPhone 13</td>\n",
       "      <td>iphone13</td>\n",
       "    </tr>\n",
       "    <tr>\n",
       "      <th>15</th>\n",
       "      <td>APPLE iPhone 13 Pro (Silver, 512 GB)</td>\n",
       "      <td>https://www.flipkart.com/apple-iphone-13-pro-s...</td>\n",
       "      <td>4.7</td>\n",
       "      <td>1472</td>\n",
       "      <td>122</td>\n",
       "      <td>125999</td>\n",
       "      <td>179900</td>\n",
       "      <td>29.961645</td>\n",
       "      <td>512</td>\n",
       "      <td>Silver</td>\n",
       "      <td>iPhone 13 Pro</td>\n",
       "      <td>iphone13</td>\n",
       "    </tr>\n",
       "    <tr>\n",
       "      <th>6</th>\n",
       "      <td>APPLE iPhone 13 ((PRODUCT)RED, 128 GB)</td>\n",
       "      <td>https://www.flipkart.com/apple-iphone-13-produ...</td>\n",
       "      <td>4.7</td>\n",
       "      <td>231485</td>\n",
       "      <td>11854</td>\n",
       "      <td>62499</td>\n",
       "      <td>74900</td>\n",
       "      <td>16.556742</td>\n",
       "      <td>128</td>\n",
       "      <td></td>\n",
       "      <td>iPhone 13</td>\n",
       "      <td>iphone13</td>\n",
       "    </tr>\n",
       "    <tr>\n",
       "      <th>8</th>\n",
       "      <td>APPLE iPhone 13 Pro (Graphite, 1 TB)</td>\n",
       "      <td>https://www.flipkart.com/apple-iphone-13-pro-g...</td>\n",
       "      <td>4.7</td>\n",
       "      <td>1472</td>\n",
       "      <td>122</td>\n",
       "      <td>144999</td>\n",
       "      <td>169900</td>\n",
       "      <td>14.656268</td>\n",
       "      <td>1</td>\n",
       "      <td>Graphite</td>\n",
       "      <td>iPhone 13 Pro</td>\n",
       "      <td>iphone13</td>\n",
       "    </tr>\n",
       "    <tr>\n",
       "      <th>5</th>\n",
       "      <td>APPLE iPhone 13 Pro (Sierra Blue, 1 TB)</td>\n",
       "      <td>https://www.flipkart.com/apple-iphone-13-pro-s...</td>\n",
       "      <td>4.7</td>\n",
       "      <td>1472</td>\n",
       "      <td>122</td>\n",
       "      <td>144999</td>\n",
       "      <td>169900</td>\n",
       "      <td>14.656268</td>\n",
       "      <td>1</td>\n",
       "      <td>Sierra Blue</td>\n",
       "      <td>iPhone 13 Pro</td>\n",
       "      <td>iphone13</td>\n",
       "    </tr>\n",
       "  </tbody>\n",
       "</table>\n",
       "</div>"
      ],
      "text/plain": [
       "                                  prod_name  \\\n",
       "21          APPLE iPhone 13 (Green, 512 GB)   \n",
       "15     APPLE iPhone 13 Pro (Silver, 512 GB)   \n",
       "6    APPLE iPhone 13 ((PRODUCT)RED, 128 GB)   \n",
       "8      APPLE iPhone 13 Pro (Graphite, 1 TB)   \n",
       "5   APPLE iPhone 13 Pro (Sierra Blue, 1 TB)   \n",
       "\n",
       "                                            prod_link  Star_Rating  \\\n",
       "21  https://www.flipkart.com/apple-iphone-13-green...          4.7   \n",
       "15  https://www.flipkart.com/apple-iphone-13-pro-s...          4.7   \n",
       "6   https://www.flipkart.com/apple-iphone-13-produ...          4.7   \n",
       "8   https://www.flipkart.com/apple-iphone-13-pro-g...          4.7   \n",
       "5   https://www.flipkart.com/apple-iphone-13-pro-s...          4.7   \n",
       "\n",
       "    Number_Of_Ratings  Number_Of_Reviews  Sale_Price     mrp   Discount  Rom  \\\n",
       "21             231485              11854       85999  169900  49.382578  512   \n",
       "15               1472                122      125999  179900  29.961645  512   \n",
       "6              231485              11854       62499   74900  16.556742  128   \n",
       "8                1472                122      144999  169900  14.656268    1   \n",
       "5                1472                122      144999  169900  14.656268    1   \n",
       "\n",
       "          color      iphone_ver iphone_cat  \n",
       "21        Green      iPhone 13    iphone13  \n",
       "15       Silver  iPhone 13 Pro    iphone13  \n",
       "6                    iPhone 13    iphone13  \n",
       "8      Graphite  iPhone 13 Pro    iphone13  \n",
       "5   Sierra Blue  iPhone 13 Pro    iphone13  "
      ]
     },
     "execution_count": 34,
     "metadata": {},
     "output_type": "execute_result"
    }
   ],
   "source": [
    "## top selling product based on customer ratings and discount provided by flipkart: APPLE iPhone 13 (Blue, 512 GB)\n",
    "\n",
    "df.sort_values(['Star_Rating','Discount'],ascending=[False,False]).head()"
   ]
  },
  {
   "cell_type": "code",
   "execution_count": null,
   "id": "51a739e5",
   "metadata": {},
   "outputs": [],
   "source": []
  }
 ],
 "metadata": {
  "kernelspec": {
   "display_name": "Python 3 (ipykernel)",
   "language": "python",
   "name": "python3"
  },
  "language_info": {
   "codemirror_mode": {
    "name": "ipython",
    "version": 3
   },
   "file_extension": ".py",
   "mimetype": "text/x-python",
   "name": "python",
   "nbconvert_exporter": "python",
   "pygments_lexer": "ipython3",
   "version": "3.7.0"
  }
 },
 "nbformat": 4,
 "nbformat_minor": 5
}
